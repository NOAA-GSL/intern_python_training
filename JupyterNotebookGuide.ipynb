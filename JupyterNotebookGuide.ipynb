{
 "cells": [
  {
   "cell_type": "markdown",
   "metadata": {},
   "source": [
    "# Jupyter Notebook Tutorial\n",
    "\n",
    "This notebook is designed as a reference for getting you comfortable with installing and using Jupyter Notebook. It contains several links to more thorough tutorials and guides.\n",
    "\n",
    "## <span style=\"color:#E27E3D;\"> What is a Jupyter Notebook?</span>\n",
    "\n",
    "From jupyter.org: \n",
    "\n",
    "> The Jupyter Notebook is the original web application for creating and sharing computational documents. It offers a simple, streamlined, document-centric experience.\n",
    "\n",
    "\n",
    "##  <span style=\"color:#E27E3D;\"> Install Jupyter Lab</span>\n",
    "\n",
    "For a full, in-depth tutorial on how to install Jupyter Notebook on a variety of systems, check out the [JupyterLab installation tutorial](https://jupyterlab.readthedocs.io/en/stable/getting_started/installation.html) on Read the Docs.\n",
    "\n",
    "With `conda` installed, and an environment activated, you can install Jupyter Lab with the follow command:\n",
    "\n",
    "```\n",
    "conda install -c conda-forge jupyterlab\n",
    "```\n",
    "\n",
    "## <span style=\"color:#E27E3D;\"> Start a Jupyter Notebook </span>\n",
    "\n",
    "From your command line, type the following command:\n",
    "\n",
    "\n",
    "```\n",
    "jupyter notebook\n",
    "```\n",
    "\n",
    "You can also explore right here on GitHub by clicking the Binder icon in the README on the main code page to launch the notebook.\n",
    "\n",
    "Here's the Jupyter Tutorial for [navigating the UI](https://jupyter-notebook.readthedocs.io/en/latest/notebook.html).\n",
    "\n",
    "## <span style=\"color:#E27E3D;\"> What you might see in a Jupyter Notebook </span> \n",
    "\n",
    "A full [notebook tutorial](https://jupyter-notebook.readthedocs.io/en/latest/examples/Notebook/Notebook%20Basics.html) is available from Jupyter.\n",
    "\n",
    "And here's a quick reference [Jupyter Cheat Sheet](https://datacamp-community-prod.s3.amazonaws.com/48093c40-5303-45f4-bbf9-0c96c0133c40) from AWS.\n",
    "\n",
    "### <span style=\"color:#7d807d;\"> Different types of font represent different activities you might need to perform </span> \n",
    "\n",
    "\n",
    "For a set of key strokes you might type, the font will look like this: `Ctl + Enter`\n",
    "\n",
    "For a full set of keyboard shortcuts, navigate in the menu at the top of the notebook to <span style=\"font-size:12pt;font-weight:bold\"> Help >> Keyboard Shortcuts </span>\n"
   ]
  },
  {
   "cell_type": "code",
   "execution_count": null,
   "metadata": {},
   "outputs": [],
   "source": [
    "# This is a Python comment in a code block.\n",
    "# The block above with prettier text is a markdown block. "
   ]
  },
  {
   "cell_type": "markdown",
   "metadata": {},
   "source": [
    "To help with formatting markdown blocks in your Notebook, check out [this tutorial](https://jupyter-notebook.readthedocs.io/en/latest/examples/Notebook/Working%20With%20Markdown%20Cells.html) and [this cheat sheet](https://www.ibm.com/docs/en/db2-event-store/2.0.0?topic=notebooks-markdown-jupyter-cheatsheet)."
   ]
  },
  {
   "cell_type": "markdown",
   "metadata": {},
   "source": [
    "###  <span style=\"color:#7d807d;\"> Edit mode and Command mode </span> \n",
    "\n",
    "To get out of \"edit\" mode for a _markdown cell_, click the \"Run\" button at the top, or on the keyboard `ctl + enter` or `shift + enter`\n",
    "\n",
    "Use `Esc` or click outside a _code cell_ to exit **Edit** mode\n",
    "\n",
    "To enter edit mode: double click a cell, or `enter` on the keyboard.\n",
    "\n",
    "**Command** mode appears with a <span style=\"color:#599AE2; font-size:14pt\">**blue box** </span> around the cell, **Edit** mode has a <span style=\"color:#7BB972; font-size:14pt\">**green box**</span>.\n",
    "\n"
   ]
  },
  {
   "cell_type": "code",
   "execution_count": null,
   "metadata": {
    "scrolled": true
   },
   "outputs": [],
   "source": [
    "# The same is true for running a code block. Click run, or hit the \"ctl + enter\" or \"shift + enter\" keys.\n",
    "\n",
    "a = 10\n",
    "print(a)"
   ]
  },
  {
   "cell_type": "code",
   "execution_count": null,
   "metadata": {},
   "outputs": [],
   "source": [
    "import sys\n",
    "from ctypes import CDLL\n",
    "# This will crash a Linux or Mac system\n",
    "# equivalent calls can be made on Windows\n",
    "\n",
    "# Uncomment these lines if you would like to see the segfault\n",
    "\n",
    "# dll = 'dylib' if sys.platform == 'darwin' else 'so.6'\n",
    "# libc = CDLL(\"libc.%s\" % dll)\n",
    "# libc.time(-1)  # BOOM!!"
   ]
  },
  {
   "cell_type": "code",
   "execution_count": null,
   "metadata": {},
   "outputs": [],
   "source": [
    "# To see a pop-up of all the magic functions, run this cell\n",
    "%magic\n"
   ]
  },
  {
   "cell_type": "code",
   "execution_count": null,
   "metadata": {},
   "outputs": [],
   "source": [
    "# To get a pop-up with help for a python function, use a ? at the beginning or end\n",
    "# print?\n",
    "?str.replace"
   ]
  },
  {
   "cell_type": "markdown",
   "metadata": {},
   "source": [
    "## <span style=\"color:#E27E3D;\"> Running the Notebook </span> \n",
    "\n",
    "\n",
    "### Run the whole notebook\n",
    "\n",
    "Rather than running each cell individually, sometimes it's helpful to run all the cells at once.\n",
    "\n",
    "Jupyter notebooks have a **Run All** option that will run all of the cells in the notebook in turn. **Run All** will also jump you down to the bottom of the notebook, so you'll need to scroll back up to where you were after selecting it.\n",
    "\n",
    "Let's try using **Run All** now.\n",
    "\n",
    "Click on the **Cell** menu above and then choose **Run All**.\n",
    "\n",
    "Depending on the contents of the cell, sometimes the cell will take a while to run. While the cell is running, you will see an **asterisk** appear in the square brackets to the left of the cell.\n",
    "\n",
    "When the cell has finished running, you will see a **number** in the square brackets. This number indicates the order in which the cell ran."
   ]
  },
  {
   "cell_type": "code",
   "execution_count": null,
   "metadata": {},
   "outputs": [],
   "source": [
    "import time\n",
    "time.sleep(10)"
   ]
  },
  {
   "cell_type": "markdown",
   "metadata": {},
   "source": [
    "### Restarting the notebook\n",
    "\n",
    "If a cell takes a really long time to run (60 seconds and up), you can try restarting the notebook. \n",
    "\n",
    "Let's do that now just to get some practice.\n",
    "\n",
    "Go to the **Kernel** menu above and then choose **Restart & Run All**.\n",
    "\n",
    "\n",
    "You'll see a confirmation dialog come up. Click on the <span style=\"color:red;\">\"Restart and Run All Cells\"</span> button to proceed.\n",
    "\n",
    "Again, this will jump you down to the bottom of the notebook, so scroll back up here once you've run the command."
   ]
  },
  {
   "cell_type": "markdown",
   "metadata": {},
   "source": [
    "### Stopping execution of a single cell\n",
    "\n",
    "Click the \"Stop\" button at the top of screen"
   ]
  },
  {
   "cell_type": "code",
   "execution_count": null,
   "metadata": {},
   "outputs": [],
   "source": [
    "time.sleep(100)"
   ]
  },
  {
   "cell_type": "markdown",
   "metadata": {},
   "source": [
    "## <span style=\"color:#E27E3D;\"> Other Tips and Tricks </span> \n",
    " "
   ]
  },
  {
   "cell_type": "code",
   "execution_count": null,
   "metadata": {},
   "outputs": [],
   "source": [
    "# Run a shell command with a leading !\n",
    "!ls -l"
   ]
  },
  {
   "cell_type": "code",
   "execution_count": null,
   "metadata": {
    "scrolled": true
   },
   "outputs": [],
   "source": [
    "# Timing your code\n",
    "# %time will give you information about a single run of the code in your cell.\n",
    "\n",
    "%time\n",
    "import time\n",
    "for _ in range(1000):\n",
    " time.sleep(0.01) # sleep for 0.01 seconds"
   ]
  },
  {
   "cell_type": "markdown",
   "metadata": {},
   "source": [
    "Check out some other useful Jupyter Notbook tricks here: https://www.dataquest.io/blog/jupyter-notebook-tips-tricks-shortcuts/"
   ]
  },
  {
   "cell_type": "code",
   "execution_count": null,
   "metadata": {},
   "outputs": [],
   "source": []
  }
 ],
 "metadata": {
  "kernelspec": {
   "display_name": "Python 3",
   "language": "python",
   "name": "python3"
  },
  "language_info": {
   "codemirror_mode": {
    "name": "ipython",
    "version": 3
   },
   "file_extension": ".py",
   "mimetype": "text/x-python",
   "name": "python",
   "nbconvert_exporter": "python",
   "pygments_lexer": "ipython3",
   "version": "3.8.3"
  }
 },
 "nbformat": 4,
 "nbformat_minor": 4
}
