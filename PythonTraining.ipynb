{
 "cells": [
  {
   "cell_type": "markdown",
   "metadata": {},
   "source": [
    "# Python Basics\n",
    "\n",
    "In this Jupyter Notebook, we'll explore some of the basic concepts of the Python programming language. Feel free to use it as a reference, to play around with the code and try stuff out. If you open it from GitHub using Binder, your changes won't be saved, that means you'll have your own private toolbox for testing out new things!"
   ]
  },
  {
   "cell_type": "markdown",
   "metadata": {},
   "source": [
    "## String Objects\n",
    "\n",
    "Strings are Python objects that store text information, and are a part of the code that gets executed.\n",
    "\n",
    "Notice below, we also have _comments_ that start with a `#`. These are parts of the code that do not get executed and are there just for clarification purposes. They tell us a bit more about our code that may not be obvious from the code itself.\n",
    "\n",
    "Comments can start at the beginning of a line, but don't have to. They can also appear after executed code."
   ]
  },
  {
   "cell_type": "code",
   "execution_count": 1,
   "metadata": {},
   "outputs": [
    {
     "data": {
      "text/plain": [
       "'This is a python string example showing the representation of the object'"
      ]
     },
     "execution_count": 1,
     "metadata": {},
     "output_type": "execute_result"
    }
   ],
   "source": [
    "# This is an example of a comment\n",
    "\n",
    "'This is a python string example showing the representation of the object'"
   ]
  },
  {
   "cell_type": "code",
   "execution_count": 2,
   "metadata": {},
   "outputs": [
    {
     "name": "stdout",
     "output_type": "stream",
     "text": [
      "This is a python string being printed\n"
     ]
    }
   ],
   "source": [
    "# You can also print a string using the print() function. \n",
    "print(\"This is a python string being printed\")"
   ]
  },
  {
   "cell_type": "code",
   "execution_count": 3,
   "metadata": {},
   "outputs": [
    {
     "name": "stdout",
     "output_type": "stream",
     "text": [
      "Use double quotes so apostrophes aren't a problem.\n",
      "This is a new line.\n",
      "\n",
      "\n",
      "When you use triple single quotes, you\n",
      "will\n",
      "see\n",
      "    that it\n",
      "       prints\n",
      "the formatting as you type it.\n",
      "\n",
      "\n"
     ]
    }
   ],
   "source": [
    "# Strings can be declared with single quotes, double quotes, or three single quotes\n",
    "print(\"Use double quotes so apostrophes aren't a problem.\")\n",
    "print('This is a new line.')\n",
    "print('''\n",
    "\n",
    "When you use triple single quotes, you\n",
    "will\n",
    "see\n",
    "    that it\n",
    "       prints\n",
    "the formatting as you type it.\n",
    "\n",
    "''')"
   ]
  },
  {
   "cell_type": "code",
   "execution_count": 4,
   "metadata": {},
   "outputs": [
    {
     "name": "stdout",
     "output_type": "stream",
     "text": [
      "THIS IS A STRING.\n",
      "this is a string.\n"
     ]
    }
   ],
   "source": [
    "# Python objects have methods that act on the objects. \n",
    "# For a string, these can do things like change capitalization, \n",
    "\n",
    "print('This is a string.'.upper())\n",
    "print('This is a string.'.lower())"
   ]
  },
  {
   "cell_type": "code",
   "execution_count": 5,
   "metadata": {},
   "outputs": [
    {
     "data": {
      "text/plain": [
       "'Bye Christina'"
      ]
     },
     "execution_count": 5,
     "metadata": {},
     "output_type": "execute_result"
    }
   ],
   "source": [
    "# Save a string in a variable for easy referencing. You can still call the methods on the string object.\n",
    "greeting = \"Hello Christina\"\n",
    "greeting.replace('Hello', 'Bye')"
   ]
  },
  {
   "cell_type": "code",
   "execution_count": 6,
   "metadata": {},
   "outputs": [
    {
     "name": "stdout",
     "output_type": "stream",
     "text": [
      "Help on built-in function replace:\n",
      "\n",
      "replace(old, new, count=-1, /) method of builtins.str instance\n",
      "    Return a copy with all occurrences of substring old replaced by new.\n",
      "    \n",
      "      count\n",
      "        Maximum number of occurrences to replace.\n",
      "        -1 (the default value) means replace all occurrences.\n",
      "    \n",
      "    If the optional argument count is given, only the first count occurrences are\n",
      "    replaced.\n",
      "\n"
     ]
    }
   ],
   "source": [
    "# To get help with a method using Python, use the help() function\n",
    "help(greeting.replace)\n",
    "\n",
    "# In Jupyter Notebook, type the function with a ? after it. A pop-up will appear.\n",
    "greeting.replace?"
   ]
  },
  {
   "cell_type": "code",
   "execution_count": 7,
   "metadata": {
    "scrolled": true
   },
   "outputs": [
    {
     "data": {
      "text/plain": [
       "['__add__',\n",
       " '__class__',\n",
       " '__contains__',\n",
       " '__delattr__',\n",
       " '__dir__',\n",
       " '__doc__',\n",
       " '__eq__',\n",
       " '__format__',\n",
       " '__ge__',\n",
       " '__getattribute__',\n",
       " '__getitem__',\n",
       " '__getnewargs__',\n",
       " '__gt__',\n",
       " '__hash__',\n",
       " '__init__',\n",
       " '__init_subclass__',\n",
       " '__iter__',\n",
       " '__le__',\n",
       " '__len__',\n",
       " '__lt__',\n",
       " '__mod__',\n",
       " '__mul__',\n",
       " '__ne__',\n",
       " '__new__',\n",
       " '__reduce__',\n",
       " '__reduce_ex__',\n",
       " '__repr__',\n",
       " '__rmod__',\n",
       " '__rmul__',\n",
       " '__setattr__',\n",
       " '__sizeof__',\n",
       " '__str__',\n",
       " '__subclasshook__',\n",
       " 'capitalize',\n",
       " 'casefold',\n",
       " 'center',\n",
       " 'count',\n",
       " 'encode',\n",
       " 'endswith',\n",
       " 'expandtabs',\n",
       " 'find',\n",
       " 'format',\n",
       " 'format_map',\n",
       " 'index',\n",
       " 'isalnum',\n",
       " 'isalpha',\n",
       " 'isascii',\n",
       " 'isdecimal',\n",
       " 'isdigit',\n",
       " 'isidentifier',\n",
       " 'islower',\n",
       " 'isnumeric',\n",
       " 'isprintable',\n",
       " 'isspace',\n",
       " 'istitle',\n",
       " 'isupper',\n",
       " 'join',\n",
       " 'ljust',\n",
       " 'lower',\n",
       " 'lstrip',\n",
       " 'maketrans',\n",
       " 'partition',\n",
       " 'replace',\n",
       " 'rfind',\n",
       " 'rindex',\n",
       " 'rjust',\n",
       " 'rpartition',\n",
       " 'rsplit',\n",
       " 'rstrip',\n",
       " 'split',\n",
       " 'splitlines',\n",
       " 'startswith',\n",
       " 'strip',\n",
       " 'swapcase',\n",
       " 'title',\n",
       " 'translate',\n",
       " 'upper',\n",
       " 'zfill']"
      ]
     },
     "execution_count": 7,
     "metadata": {},
     "output_type": "execute_result"
    }
   ],
   "source": [
    "# Look through a list of all the methods an object has using the dir() function\n",
    "dir(greeting)"
   ]
  },
  {
   "cell_type": "markdown",
   "metadata": {},
   "source": [
    "## Variables\n",
    "\n",
    "Variables aren't just for strings! A *variable* is a named pointer or reference to a place in memory that could store a whole variety of types of data. Variables could contain numbers (integers or decimals), strings, boolean values (true or false), or any other data type. We'll cover more complex data types later.\n",
    "\n",
    "It's a good practice to use descriptive names for your variables for readability. \n",
    "\n",
    "Variable names **can** be any length. They **can contain**:\n",
    " - any mixture of uppercase and lowercase letters (A-Z, a-z)\n",
    " - digits (0-9)\n",
    " - the underscore character (_)\n",
    " - unicode characters (as of Python 3)\n",
    "\n",
    "Variable names **cannot start with** a numerical digit."
   ]
  },
  {
   "cell_type": "code",
   "execution_count": 8,
   "metadata": {},
   "outputs": [],
   "source": [
    "# Here are some example variables that describe a Senior meteorology student who has not yet graduated.\n",
    "\n",
    "\n",
    "name = \"Jane Smith\"    # string\n",
    "age = 22               # integer (or int)\n",
    "major = \"Meteorology\"  # string\n",
    "gpa = 3.82             # decimal value (or float)\n",
    "graduated = False      # true/false (or boolean)"
   ]
  },
  {
   "cell_type": "code",
   "execution_count": 9,
   "metadata": {},
   "outputs": [
    {
     "name": "stdout",
     "output_type": "stream",
     "text": [
      "Integer gpa:  3\n",
      "Floating point age:  22.0\n",
      "Ingeger graduated:  0\n",
      "Bool age:  True\n"
     ]
    }
   ],
   "source": [
    "# You can use functions to change the type of data in some cases:\n",
    "\n",
    "print('Integer gpa: ', int(gpa))\n",
    "print('Floating point age: ', float(age))\n",
    "print('Ingeger graduated: ', int(graduated))\n",
    "print('Bool age: ', bool(age)) # More on this one later"
   ]
  },
  {
   "cell_type": "markdown",
   "metadata": {},
   "source": [
    "\n",
    "### Exercise\n",
    "--------\n",
    "Declare at least one variable of each data type int, float, bool, and string to describe\n",
    "information at a weather station named KDEN where it's snowing heavily (4 asterisks!), \n",
    "the temperature is 22.4 F. The station is functioning as expected.\n"
   ]
  },
  {
   "cell_type": "code",
   "execution_count": 10,
   "metadata": {},
   "outputs": [],
   "source": [
    "station_name = 'KDEN'\n",
    "precip_type = 'snow'\n",
    "precip_intensity = 4\n",
    "temperature = 22.4\n",
    "temperature_unit = 'F'\n",
    "station_is_functioning = True"
   ]
  },
  {
   "cell_type": "markdown",
   "metadata": {},
   "source": [
    "## Operators\n",
    "\n",
    "Operators are special symbols that indicate some sort of computation should be performed. The computation depends on the type of the object. "
   ]
  },
  {
   "cell_type": "code",
   "execution_count": 11,
   "metadata": {},
   "outputs": [
    {
     "name": "stdout",
     "output_type": "stream",
     "text": [
      "<class 'bool'>\n"
     ]
    }
   ],
   "source": [
    "# Don't know the type of the object you have? Use the type function\n",
    "print(type(station_is_functioning))"
   ]
  },
  {
   "cell_type": "code",
   "execution_count": 12,
   "metadata": {},
   "outputs": [],
   "source": [
    "# Assignment operator: =\n",
    "a = 12\n",
    "b = 3"
   ]
  },
  {
   "cell_type": "markdown",
   "metadata": {},
   "source": [
    "### Arithmetic operators: \n",
    "\n",
    "- Add: `+`\n",
    "- Subtract or negate: `-`\n",
    "- Multiply: `*`\n",
    "- Divide: `/`\n",
    "- Floor divide: `//`\n",
    "- Modulo: `%`\n",
    "- Exponentiation: `**`"
   ]
  },
  {
   "cell_type": "code",
   "execution_count": 13,
   "metadata": {},
   "outputs": [
    {
     "data": {
      "text/plain": [
       "5"
      ]
     },
     "execution_count": 13,
     "metadata": {},
     "output_type": "execute_result"
    }
   ],
   "source": [
    "# Add\n",
    "3 + 2"
   ]
  },
  {
   "cell_type": "code",
   "execution_count": 14,
   "metadata": {},
   "outputs": [
    {
     "data": {
      "text/plain": [
       "-4"
      ]
     },
     "execution_count": 14,
     "metadata": {},
     "output_type": "execute_result"
    }
   ],
   "source": [
    "# Subtract\n",
    "b - 7"
   ]
  },
  {
   "cell_type": "code",
   "execution_count": 15,
   "metadata": {},
   "outputs": [
    {
     "data": {
      "text/plain": [
       "-3"
      ]
     },
     "execution_count": 15,
     "metadata": {},
     "output_type": "execute_result"
    }
   ],
   "source": [
    "# Negate\n",
    "-b"
   ]
  },
  {
   "cell_type": "code",
   "execution_count": 16,
   "metadata": {},
   "outputs": [
    {
     "data": {
      "text/plain": [
       "16"
      ]
     },
     "execution_count": 16,
     "metadata": {},
     "output_type": "execute_result"
    }
   ],
   "source": [
    "# Multiply\n",
    "8 * 2"
   ]
  },
  {
   "cell_type": "code",
   "execution_count": 17,
   "metadata": {},
   "outputs": [
    {
     "name": "stdout",
     "output_type": "stream",
     "text": [
      "2.6666666666666665\n",
      "2.0\n",
      "-2.0\n"
     ]
    }
   ],
   "source": [
    "# Divide. The result is always a float! \n",
    "# Let's look at a few examples here:\n",
    "print(8 / 3)\n",
    "print(8 / 4)\n",
    "print(8 / -4.0)"
   ]
  },
  {
   "cell_type": "code",
   "execution_count": 18,
   "metadata": {},
   "outputs": [
    {
     "name": "stdout",
     "output_type": "stream",
     "text": [
      "2\n",
      "2\n",
      "-3.0\n"
     ]
    }
   ],
   "source": [
    "# Floor divide (\"integer division\")\n",
    "print(8 // 3)\n",
    "print(8 // 4)\n",
    "print(8 // -3.0) # Tricky! "
   ]
  },
  {
   "cell_type": "code",
   "execution_count": 19,
   "metadata": {},
   "outputs": [
    {
     "data": {
      "text/plain": [
       "5"
      ]
     },
     "execution_count": 19,
     "metadata": {},
     "output_type": "execute_result"
    }
   ],
   "source": [
    "# Modulo -- remainder when a / b\n",
    "12 % 7   # (7 * 1) + 5"
   ]
  },
  {
   "cell_type": "code",
   "execution_count": 20,
   "metadata": {},
   "outputs": [
    {
     "name": "stdout",
     "output_type": "stream",
     "text": [
      "16\n",
      "64\n"
     ]
    }
   ],
   "source": [
    "# Exponents\n",
    "print(4**2)\n",
    "print(4**3)"
   ]
  },
  {
   "cell_type": "code",
   "execution_count": 21,
   "metadata": {},
   "outputs": [
    {
     "data": {
      "text/plain": [
       "(11, 14)"
      ]
     },
     "execution_count": 21,
     "metadata": {},
     "output_type": "execute_result"
    }
   ],
   "source": [
    "# Standard order of operations (PEMDAS) applies, and can be augmented with parentheses\n",
    "a = 2 * 4 + 3\n",
    "b = 2 * (4 + 3)\n",
    "\n",
    "a, b"
   ]
  },
  {
   "cell_type": "code",
   "execution_count": 22,
   "metadata": {},
   "outputs": [
    {
     "name": "stdout",
     "output_type": "stream",
     "text": [
      "hello Jane Smith\n",
      "hello hello \n"
     ]
    }
   ],
   "source": [
    "# Some of these operators work on strings, too!\n",
    "print('hello ' + name)\n",
    "print('hello ' * 2 )"
   ]
  },
  {
   "cell_type": "markdown",
   "metadata": {},
   "source": [
    "### Augmented assignment\n",
    "\n",
    "Perform a mathematical operation and assigment with a single command. Works with any of the above mathematical operators.\n"
   ]
  },
  {
   "cell_type": "code",
   "execution_count": 23,
   "metadata": {},
   "outputs": [
    {
     "name": "stdout",
     "output_type": "stream",
     "text": [
      "12\n",
      "12\n"
     ]
    }
   ],
   "source": [
    "# Instead of \n",
    "a = 10\n",
    "a = a + 2\n",
    "print(a)\n",
    "\n",
    "# Use augmented assignment\n",
    "a = 10\n",
    "a += 2\n",
    "print(a)"
   ]
  },
  {
   "cell_type": "markdown",
   "metadata": {},
   "source": [
    "### Comparison operators\n",
    "\n",
    "These operators typically return a boolean value. They include:\n",
    "\n",
    "- Equal to: `==`\n",
    "- Not equal to: `!=`\n",
    "- Less/greater than: `<` `>`\n",
    "- Less than or equal to: `<=` `>=`\n",
    "    "
   ]
  },
  {
   "cell_type": "code",
   "execution_count": 24,
   "metadata": {},
   "outputs": [
    {
     "name": "stdout",
     "output_type": "stream",
     "text": [
      "3 > 2 is True\n",
      "3 == 2 is False\n"
     ]
    }
   ],
   "source": [
    "# Examples\n",
    "print('3 > 2 is', 3 > 2)\n",
    "print('3 == 2 is', 3 == 2)"
   ]
  },
  {
   "cell_type": "code",
   "execution_count": 25,
   "metadata": {},
   "outputs": [
    {
     "data": {
      "text/plain": [
       "False"
      ]
     },
     "execution_count": 25,
     "metadata": {},
     "output_type": "execute_result"
    }
   ],
   "source": [
    "# A Python gotcha...don't compare the results of floating point objects. \n",
    "# They may be stored in memory with a different precision than shown in ouput.\n",
    "f = 1.1 + 2.2\n",
    "f == 3.3"
   ]
  },
  {
   "cell_type": "markdown",
   "metadata": {},
   "source": [
    "### Logical operators\n",
    "\n",
    "These operators act with boolean variables. They are self-explaning:\n",
    "\n",
    "- `and`\n",
    "- `not`\n",
    "- `or`\n",
    "\n"
   ]
  },
  {
   "cell_type": "code",
   "execution_count": 26,
   "metadata": {},
   "outputs": [],
   "source": [
    "a = 12\n",
    "b = 3"
   ]
  },
  {
   "cell_type": "code",
   "execution_count": 27,
   "metadata": {},
   "outputs": [
    {
     "data": {
      "text/plain": [
       "True"
      ]
     },
     "execution_count": 27,
     "metadata": {},
     "output_type": "execute_result"
    }
   ],
   "source": [
    "# Check a range with and\n",
    "a > 5 and a < 20"
   ]
  },
  {
   "cell_type": "code",
   "execution_count": 28,
   "metadata": {},
   "outputs": [
    {
     "data": {
      "text/plain": [
       "True"
      ]
     },
     "execution_count": 28,
     "metadata": {},
     "output_type": "execute_result"
    }
   ],
   "source": [
    "# Act on the output of methods/functions that return booleans\n",
    "not 'dog'.isnumeric()"
   ]
  },
  {
   "cell_type": "code",
   "execution_count": 29,
   "metadata": {},
   "outputs": [
    {
     "data": {
      "text/plain": [
       "True"
      ]
     },
     "execution_count": 29,
     "metadata": {},
     "output_type": "execute_result"
    }
   ],
   "source": [
    "# With or, if the first expression evaluates to True, the second doesn't need to be evaluated.\n",
    "a > 6 or b < 2"
   ]
  },
  {
   "cell_type": "code",
   "execution_count": 30,
   "metadata": {},
   "outputs": [
    {
     "name": "stdout",
     "output_type": "stream",
     "text": [
      "Zero bools:  False True False\n",
      "Non-zero bools:  True True True\n"
     ]
    }
   ],
   "source": [
    "# Another python gotcha...especially with logic operators\n",
    "# Some data types can be evaluated in a boolean context with a true/false value. \n",
    "\n",
    "# Any zero value is False\n",
    "print('Zero bools: ', bool(0), bool(1), bool(0.0))\n",
    "\n",
    "# Non-zero values are True\n",
    "print('Non-zero bools: ', bool(1), bool(-22.4), bool(-1))"
   ]
  },
  {
   "cell_type": "code",
   "execution_count": 31,
   "metadata": {},
   "outputs": [
    {
     "name": "stdout",
     "output_type": "stream",
     "text": [
      "True False True\n"
     ]
    }
   ],
   "source": [
    "# Empty strings are False\n",
    "print(bool('hi there'), bool(''), bool(' ') )"
   ]
  },
  {
   "cell_type": "code",
   "execution_count": 32,
   "metadata": {},
   "outputs": [
    {
     "name": "stdout",
     "output_type": "stream",
     "text": [
      "False\n"
     ]
    }
   ],
   "source": [
    "# The built in special value None evaluates to False\n",
    "print(bool(None))"
   ]
  },
  {
   "cell_type": "markdown",
   "metadata": {},
   "source": [
    "# Control Structures\n",
    "\n",
    "Control structures are blocks of code that make decisions in the flow of the program. \n",
    "\n",
    "- Conditionals (and selection) make decisions to execute code when one or more conditions are met. \n",
    "- Loops (or iteration) repeat a certain section of code while a condition is met."
   ]
  },
  {
   "cell_type": "markdown",
   "metadata": {},
   "source": [
    "## Conditionals\n",
    "\n",
    "The `if` statement is a control structure that peforms some computation only when a certain condition is met. Otherwise, it has the option to skip the computation or do something else. The `if` statement in its simplest form looks like this:\n",
    "\n",
    "```\n",
    "if <expression>:\n",
    "    <statement>\n",
    "```\n",
    "\n",
    "The `:` and indentation matter! The indentation level indicates a code block, and can contain multiple statements.\n",
    "\n",
    "The `<statement>` is only evaluated when `<expression>` evaluates to `True`, otherwise it is skipped.\n",
    "\n",
    "When you might use an `if` statement:\n",
    "\n",
    "- Implementing decision trees\n",
    "- Choosing different algorithms to apply based on the value of a variable. \n",
    "- Acting based on a flag that turns on option on or off\n",
    "\n",
    "\n",
    "Some languages might also include a `case` statement for selection that behaves similarly. Instead of a `case` statement, Python uses a dictionary data structure to implement selection. More on that later!"
   ]
  },
  {
   "cell_type": "code",
   "execution_count": 33,
   "metadata": {},
   "outputs": [
    {
     "name": "stdout",
     "output_type": "stream",
     "text": [
      "it's cold\n",
      "i'm going inside\n"
     ]
    }
   ],
   "source": [
    "# Example\n",
    "temperature = 18\n",
    "if temperature < 32:\n",
    "    print(\"it's cold\")\n",
    "    print(\"i'm going inside\")"
   ]
  },
  {
   "cell_type": "markdown",
   "metadata": {},
   "source": [
    "We can introduce multiple branches of an if statement, including a default branch for more complex logic. \n",
    "\n",
    "```\n",
    "if <expression>:\n",
    "    <statement>\n",
    "elif <expression>:\n",
    "    <statement>\n",
    "elif <expression>:\n",
    "    <statement>\n",
    "else:\n",
    "    <statement>\n",
    "```"
   ]
  },
  {
   "cell_type": "code",
   "execution_count": 34,
   "metadata": {},
   "outputs": [
    {
     "name": "stdout",
     "output_type": "stream",
     "text": [
      "it's nice out!\n"
     ]
    }
   ],
   "source": [
    "temperature = 78\n",
    "\n",
    "if temperature >= 80:\n",
    "    print(\"it's hot\")\n",
    "elif temperature > 60:\n",
    "    print(\"it's nice out!\")\n",
    "elif temperature > 32:\n",
    "    print(\"it sure is chilly\")\n",
    "elif temperature > 20:\n",
    "    print(\"geez, it's cold!\")\n",
    "    print(\"stay warm\")\n",
    "else:\n",
    "    print(\"nope\")"
   ]
  },
  {
   "cell_type": "code",
   "execution_count": 35,
   "metadata": {},
   "outputs": [
    {
     "name": "stdout",
     "output_type": "stream",
     "text": [
      "it's freezing\n"
     ]
    }
   ],
   "source": [
    "# One-line option:\n",
    "temperature = 32\n",
    "if temperature == 32: print(\"it's freezing\")"
   ]
  },
  {
   "cell_type": "code",
   "execution_count": 36,
   "metadata": {},
   "outputs": [
    {
     "data": {
      "text/plain": [
       "True"
      ]
     },
     "execution_count": 36,
     "metadata": {},
     "output_type": "execute_result"
    }
   ],
   "source": [
    "# Conditional expresssions (or ternary operator). \n",
    "# It always takes the form: <expr1> if <conditional_expr> else <expr2>\n",
    "# It has non-obvious evaluation order. It evaluates the middle expression first.\n",
    "# It acts more as an operator. \n",
    "# It doesn't really control the structure of the code.\n",
    "freezing = True if temperature <= 32 else False\n",
    "\n",
    "\n",
    "# In standard, if statement syntax, it looks like this:\n",
    "\n",
    "if temperature <= 32:\n",
    "    freezing = True\n",
    "else:\n",
    "    freezing = False\n",
    "    \n",
    "# Fun fact: Both of the previous examples are unnecessary.\n",
    "# Here, you could just set it with the expression\n",
    "freezing = temperature <= 32\n",
    "freezing"
   ]
  },
  {
   "cell_type": "markdown",
   "metadata": {},
   "source": [
    "## While loops\n",
    "\n",
    "While loops are control structures that repeat a specific block of code as many times as necessary. A `while` loop is best used when you don't know exactly how many times you might need to run a block of code. It relies on setting an initial value and then evaluating a conditional at the beginning or end of the loop. The loop stops when a condition is met.\n",
    "\n",
    "The basic form looks like this:\n",
    "\n",
    "```\n",
    "while <expression>:\n",
    "    <statements>\n",
    "```\n",
    "\n",
    "The `:` and indentation matter! The indentation level indicates a code block, and can contain multiple statements.\n",
    "\n",
    "The `<statments>` are only evaluate when the `<expression>` evaluates to true. Once the `<statements>` are evaluate, the code loops back around to evaluate the `<expression>` again. The `<statements>` run as long as the `<expression>` evaluates to True. Any time the `<expression>` evaluates to False, the program proceeds with the first statement after the while loop (at the same or lower indentation level as the while loop).\n",
    "\n",
    "When you might use a `while` loop:\n",
    "\n",
    "- To apply a \"warming\" algorithm until a certain temperature is achieved.\n",
    "- To find a matching item in a list\n",
    "- Sequence creation\n"
   ]
  },
  {
   "cell_type": "code",
   "execution_count": 37,
   "metadata": {},
   "outputs": [
    {
     "name": "stdout",
     "output_type": "stream",
     "text": [
      "10\n",
      "8\n",
      "6\n",
      "4\n",
      "2\n",
      "0\n"
     ]
    }
   ],
   "source": [
    "# Iteratation example\n",
    "x = 10              # Initialize a variable to use in the conditional\n",
    "while x >= 0:       # Evaluate the conditional\n",
    "    print(x)        # Do something\n",
    "    x -= 2          # Decrement the variable to ensure that the conditional will eventually be satisfied"
   ]
  },
  {
   "cell_type": "code",
   "execution_count": 38,
   "metadata": {},
   "outputs": [
    {
     "name": "stdout",
     "output_type": "stream",
     "text": [
      "0 1 1 2 3 5 8 13 21 34 55 89 "
     ]
    }
   ],
   "source": [
    "# Fibonacci sequence through 100\n",
    "# 0 1 1 2 3 5 8 ....\n",
    "\n",
    "a = 0\n",
    "b = 1\n",
    "print(a, end=\" \")\n",
    "while b < 100:\n",
    "    print(b, end=\" \") # Print all on the same line. end = \"\\n\" by default\n",
    "    temp = a + b\n",
    "    a = b\n",
    "    b = temp"
   ]
  },
  {
   "cell_type": "code",
   "execution_count": 39,
   "metadata": {},
   "outputs": [],
   "source": [
    "# Infinite loop\n",
    "# while True:\n",
    "#     print('foo')"
   ]
  },
  {
   "cell_type": "code",
   "execution_count": 40,
   "metadata": {},
   "outputs": [
    {
     "name": "stdout",
     "output_type": "stream",
     "text": [
      "10 12 14 16 18 20 22 22\n"
     ]
    }
   ],
   "source": [
    "# Indefinite loop and \"break\"\n",
    "# break is a special key word in Python that stops the execution of the loop and immediately.\n",
    "# The program proceeds at the next statement after the loop\n",
    "\n",
    "x = 10\n",
    "while True:\n",
    "    print(x, end=\" \")\n",
    "    if x == 22:\n",
    "        break\n",
    "    x += 2\n",
    "    \n",
    "print(x)"
   ]
  },
  {
   "cell_type": "code",
   "execution_count": 41,
   "metadata": {},
   "outputs": [
    {
     "name": "stdout",
     "output_type": "stream",
     "text": [
      "10 9 8 7 5 4 3 2 1 0 "
     ]
    }
   ],
   "source": [
    "# while loop and \"continue\"\n",
    "# continue is a special key word in Python that allows you to skip over the execution of the remaining code block.\n",
    "# It starts back at the evaluation of the conditional on the next iteration.\n",
    "\n",
    "x = 10\n",
    "print(x, end=\" \")\n",
    "while x > 0:\n",
    "    x -= 1\n",
    "    if x == 6:\n",
    "        continue  # Don't print 6!\n",
    "    print(x, end=\" \")\n",
    "    "
   ]
  },
  {
   "attachments": {
    "list_tuple_set.png": {
     "image/png": "[encoded data removed]"
    }
   },
   "cell_type": "markdown",
   "metadata": {},
   "source": [
    "## Data structures -- collections\n",
    "\n",
    "So far we have seen the python basic data types (int, float, bool, str), but we often want to be able to deal with collections of these objects. Python offers several built-in collection objects that are super useful for a variety of applications. Those are:\n",
    "\n",
    "- Lists -- square brackets, mutable (changeable)\n",
    "- Tuples -- parentheses, immutable (unchangeable)\n",
    "- Sets -- curly brackets, mutable (changesable), unique items only\n",
    "\n",
    "\n",
    "Here's a table that summarizes the features of these collections borrowed from [Toward Data Science](https://towardsdatascience.com/15-examples-to-master-python-lists-vs-sets-vs-tuples-d4ffb291cf07#:~:text=Tuple%20is%20a%20collection%20of,collection%20of%20distinct%20immutable%20objects)\n",
    "\n",
    "![list_tuple_set.png](attachment:list_tuple_set.png)\n"
   ]
  },
  {
   "cell_type": "markdown",
   "metadata": {},
   "source": [
    "## Lists\n",
    "\n",
    "- First element starts at 0\n"
   ]
  },
  {
   "cell_type": "code",
   "execution_count": 42,
   "metadata": {},
   "outputs": [
    {
     "name": "stdout",
     "output_type": "stream",
     "text": [
      "['apple', 'orange', 'kiwi', 'banana', 'apple']\n",
      "[1, 2, 3, 4, 5, 2, 4, 4]\n",
      "['b', 4, True, [1, 2, 3, 4, 5, 2, 4, 4]]\n"
     ]
    }
   ],
   "source": [
    "# Some examples\n",
    "fruits = ['apple', 'orange', 'kiwi', 'banana', 'apple']\n",
    "a = [1, 2, 3, 4, 5, 2, 4, 4]\n",
    "foo = ['b', 4, True, a]\n",
    "\n",
    "print(fruits)\n",
    "print(a)\n",
    "print(foo)"
   ]
  },
  {
   "cell_type": "code",
   "execution_count": 43,
   "metadata": {},
   "outputs": [
    {
     "name": "stdout",
     "output_type": "stream",
     "text": [
      "1\n",
      "3\n"
     ]
    }
   ],
   "source": [
    "# Lists are objects with their own methods\n",
    "print(fruits.count('orange'))\n",
    "print(a.count(4))"
   ]
  },
  {
   "cell_type": "code",
   "execution_count": 44,
   "metadata": {},
   "outputs": [
    {
     "name": "stdout",
     "output_type": "stream",
     "text": [
      "[4, 4, 2, 5, 4, 3, 2, 1]\n"
     ]
    }
   ],
   "source": [
    "# Swap the direction of the items\n",
    "a = [1, 2, 3, 4, 5, 2, 4, 4]\n",
    "a.reverse()\n",
    "print(a)\n"
   ]
  },
  {
   "cell_type": "code",
   "execution_count": 45,
   "metadata": {},
   "outputs": [
    {
     "name": "stdout",
     "output_type": "stream",
     "text": [
      "['b', 4, 'banana', True, [4, 4, 2, 5, 4, 3, 2, 1]]\n",
      "['b', 4, 'banana', True, [4, 4, 2, 5, 4, 3, 2, 1], 'grape']\n",
      "['b', 4, True, [4, 4, 2, 5, 4, 3, 2, 1], 'grape']\n",
      "[4, True, [4, 4, 2, 5, 4, 3, 2, 1], 'grape']\n",
      "[4, True, [4, 4, 2, 5, 4, 3, 2, 1]]\n"
     ]
    }
   ],
   "source": [
    "foo = ['b', 4, True, a]\n",
    "\n",
    "\n",
    "# Add new items at the beginning\n",
    "foo.insert(2, 'banana')\n",
    "print(foo)\n",
    "\n",
    "# Add new items at the end\n",
    "foo.append('grape')\n",
    "print(foo)\n",
    "\n",
    "# Remove the first occurrence of an item\n",
    "foo.remove('banana')\n",
    "print(foo)\n",
    "\n",
    "# Remove the 1st item ('b') (defaults to last item!)\n",
    "foo.pop(0)\n",
    "print(foo)\n",
    "\n",
    "# Remove the last item\n",
    "foo.pop()\n",
    "print(foo)\n"
   ]
  },
  {
   "cell_type": "code",
   "execution_count": 46,
   "metadata": {},
   "outputs": [
    {
     "name": "stdout",
     "output_type": "stream",
     "text": [
      "['apple', 'tangerine', 'kiwi', 'banana', 'apple']\n"
     ]
    }
   ],
   "source": [
    "# Change an element\n",
    "fruits = ['apple', 'orange', 'kiwi', 'banana', 'apple']\n",
    "fruits[1] = 'tangerine'\n",
    "print(fruits)"
   ]
  },
  {
   "cell_type": "code",
   "execution_count": 47,
   "metadata": {},
   "outputs": [
    {
     "name": "stdout",
     "output_type": "stream",
     "text": [
      "                    Fruits is: ['apple', 'orange', 'kiwi', 'banana', 'apple']\n",
      "         Reassigned list to b: ['apple', 'orange', 'kiwi', 'banana', 'apple']\n",
      "    Changed b banana -> grape: ['apple', 'orange', 'kiwi', 'grape', 'apple']\n",
      "                    Fruits is: ['apple', 'orange', 'kiwi', 'grape', 'apple']\n"
     ]
    }
   ],
   "source": [
    "# Python gotcha...List variables are pointers. That means that the variable just points to a spot in memory.\n",
    "# If you change the object that it's pointing to, it will change the object in memory. \n",
    "# You must use copy to create a new list object with a new variable name.\n",
    "fruits = ['apple', 'orange', 'kiwi', 'banana', 'apple']\n",
    "print(f'{\"Fruits is:\":>30s} {fruits}') \n",
    "b = fruits\n",
    "# Needs b = fruits.copy()\n",
    "print(f'{\"Reassigned list to b:\":>30s} {b}')\n",
    "\n",
    "b[3] = 'grape'\n",
    "print(f'{\"Changed b banana -> grape:\":>30s} {b}')\n",
    "print(f'{\"Fruits is:\":>30s} {fruits}')   # Not what we expect!"
   ]
  },
  {
   "cell_type": "code",
   "execution_count": 48,
   "metadata": {},
   "outputs": [
    {
     "name": "stdout",
     "output_type": "stream",
     "text": [
      "['apple', 'apple', 'banana', 'kiwi', 'orange']\n",
      "[1, 2, 2, 3, 4, 4, 4, 5]\n",
      "[1, 2, 3, 4, 5, 2, 4, 4]\n"
     ]
    }
   ],
   "source": [
    "# Sort a list\n",
    "fruits = ['apple', 'orange', 'kiwi', 'banana', 'apple']\n",
    "a = [1, 2, 3, 4, 5, 2, 4, 4]\n",
    "foo = ['b', 4, True, a]\n",
    "\n",
    "fruits.sort()    # Sorts in place\n",
    "print(fruits)\n",
    "\n",
    "print(sorted(a))  # Returns a sorted list, doesn't modify original list\n",
    "print(a)\n",
    "\n",
    "#print(sorted(foo)) # Returns an error...no way to compare these items with less/greater than"
   ]
  },
  {
   "cell_type": "code",
   "execution_count": 49,
   "metadata": {},
   "outputs": [
    {
     "data": {
      "text/plain": [
       "True"
      ]
     },
     "execution_count": 49,
     "metadata": {},
     "output_type": "execute_result"
    }
   ],
   "source": [
    "# Check if a list contains an item\n",
    "'apple' in fruits"
   ]
  },
  {
   "cell_type": "markdown",
   "metadata": {},
   "source": [
    "## The `for` loop\n",
    "\n",
    "An additional control structure for iterating through a definite number of items. It's helpful for navigating collections. The syntax is as follows:\n",
    "\n",
    "```\n",
    "for <var> in <iterable>:\n",
    "    <statement(s)>\n",
    "    \n",
    "```\n",
    "\n",
    "A Python iterable is any collection (lists, sets, tuples, etc.) that can be iterated on. For a more complete definition of iterable, visit [this tutorial](https://realpython.com/python-for-loop/). \n",
    "\n",
    "The `<var>` is a variable name that you are using to label an item in the list on each iteration."
   ]
  },
  {
   "cell_type": "code",
   "execution_count": 50,
   "metadata": {},
   "outputs": [
    {
     "name": "stdout",
     "output_type": "stream",
     "text": [
      "apple\n",
      "orange\n",
      "kiwi\n",
      "banana\n",
      "apple\n"
     ]
    }
   ],
   "source": [
    "fruits = ['apple', 'orange', 'kiwi', 'banana', 'apple']\n",
    "for fruit in fruits:\n",
    "    print(fruit)"
   ]
  },
  {
   "cell_type": "code",
   "execution_count": 51,
   "metadata": {},
   "outputs": [
    {
     "name": "stdout",
     "output_type": "stream",
     "text": [
      "0 1 2 3 4 5 6 7 8 9 "
     ]
    }
   ],
   "source": [
    "# A shortcut for a list of intergers is the range() function.\n",
    "# Notice in the example here that it does not include the last number listed in range().\n",
    "for i in range(10):\n",
    "    print(i, end=\" \")"
   ]
  },
  {
   "cell_type": "code",
   "execution_count": 52,
   "metadata": {},
   "outputs": [
    {
     "name": "stdout",
     "output_type": "stream",
     "text": [
      "2 3 4 5 6 7 8 9 10 \n",
      "2 4 6 8 10 \n",
      "11 9 7 5 3 1 "
     ]
    }
   ],
   "source": [
    "# range() can also handle start, stop, and increment. \n",
    "for i in range(2, 11):\n",
    "    print(i, end=\" \")  # All numbers 2 - 10\n",
    "    \n",
    "print()\n",
    "for i in range(2, 11, 2):\n",
    "    print(i, end=\" \")  # All EVEN numbers 2 - 10\n",
    "    \n",
    "print()\n",
    "# It can also go backwards\n",
    "for i in range(11, 0, -2):\n",
    "    print(i, end=\" \")  # Count down with ODD numbers 11 - 1\n"
   ]
  },
  {
   "cell_type": "code",
   "execution_count": 53,
   "metadata": {},
   "outputs": [
    {
     "name": "stdout",
     "output_type": "stream",
     "text": [
      "a\n",
      "p\n",
      "p\n",
      "l\n",
      "e\n"
     ]
    }
   ],
   "source": [
    "# Python gotcha...strings are iterables\n",
    "for i in 'apple':\n",
    "    print(i)"
   ]
  },
  {
   "cell_type": "code",
   "execution_count": 54,
   "metadata": {},
   "outputs": [
    {
     "name": "stdout",
     "output_type": "stream",
     "text": [
      "apple\n",
      "banana\n",
      "banana\n",
      "kiwi\n",
      "['apple', 'orange']\n",
      "['kiwi', 'banana']\n",
      "['orange', 'kiwi']\n"
     ]
    }
   ],
   "source": [
    "# Indexing\n",
    "fruits = ['apple', 'orange', 'kiwi', 'banana']\n",
    "\n",
    "print(fruits[0])   # first element\n",
    "print(fruits[3])   # last element\n",
    "print(fruits[-1])  # last element\n",
    "print(fruits[-2])  # 2nd to last element\n",
    "\n",
    "print(fruits[:2])  # The first 2 elements\n",
    "print(fruits[2:])  # Start at the 2nd element until end\n",
    "print(fruits[1:3]) # A selected range\n"
   ]
  },
  {
   "cell_type": "code",
   "execution_count": 55,
   "metadata": {},
   "outputs": [
    {
     "name": "stdout",
     "output_type": "stream",
     "text": [
      "[4, 5, 6]\n",
      "[4, 5, 6]\n",
      "8\n",
      "1 2 3 4 5 6 7 8 9 "
     ]
    }
   ],
   "source": [
    "# Advanced indexing -- 2D lists\n",
    "a = [[1, 2, 3], \n",
    "     [4, 5, 6],\n",
    "     [7, 8, 9]]\n",
    "\n",
    "# To index a whole row -- the first index\n",
    "print(a[1])\n",
    "print(a[1][:])\n",
    "\n",
    "# To index an item in a colum of a row\n",
    "print(a[2][1])\n",
    "\n",
    "# To loop through all of the items\n",
    "for row in a:\n",
    "    for item in row:\n",
    "        print(item, end=\" \")\n"
   ]
  },
  {
   "cell_type": "code",
   "execution_count": 56,
   "metadata": {},
   "outputs": [],
   "source": [
    "# Unpacking lists into variables\n",
    "coordinates = [22, 32, 15]\n",
    "x = coordinates[0]\n",
    "y = coordinates[1]\n",
    "z = coordinates[2]\n",
    "\n",
    "# Need to make sure you know how many items will be in your collection\n",
    "x, y, z = coordinates"
   ]
  },
  {
   "cell_type": "markdown",
   "metadata": {},
   "source": [
    "## Tuples\n",
    "\n",
    "Very similar to lists, but they're immutable. You can't change them once they're set. Follow all the same indexing rules.\n"
   ]
  },
  {
   "cell_type": "code",
   "execution_count": 57,
   "metadata": {},
   "outputs": [
    {
     "name": "stdout",
     "output_type": "stream",
     "text": [
      "List methods:\n",
      "append clear copy count extend index insert pop remove reverse sort \n",
      "Tuple methods:\n",
      "count index "
     ]
    }
   ],
   "source": [
    "# Check out the differences in the methods we get with lists and tuples\n",
    "\n",
    "coord_list = [22, 32, 15]\n",
    "coord_tuple = (22, 32, 15)\n",
    "\n",
    "print('List methods:')\n",
    "for method in dir(coord_list):\n",
    "    if not method.startswith('__'):   # Exclude the \"dunder\" methods \n",
    "        print(method, end=\" \")\n",
    "\n",
    "print('\\nTuple methods:')\n",
    "for method in dir(coord_tuple):\n",
    "    if not method.startswith('__'):   # Exclude the \"dunder\" methods \n",
    "        print(method, end=\" \")"
   ]
  },
  {
   "cell_type": "code",
   "execution_count": 58,
   "metadata": {},
   "outputs": [
    {
     "data": {
      "text/plain": [
       "22"
      ]
     },
     "execution_count": 58,
     "metadata": {},
     "output_type": "execute_result"
    }
   ],
   "source": [
    "# Tuples follow the same indexing rules\n",
    "coord_tuple = (22, 32, 15)\n",
    "\n",
    "x = coord_tuple[0]\n",
    "x"
   ]
  },
  {
   "cell_type": "markdown",
   "metadata": {},
   "source": [
    "# Sets\n",
    "\n",
    "An iterable collection of unique items that can be modified (mutable), but that **can't be indexed.**\n",
    "\n",
    "Sets are most often used for determining how two collections compare to each other -- intersections, unions, sub/super-sets, differences "
   ]
  },
  {
   "cell_type": "code",
   "execution_count": 59,
   "metadata": {},
   "outputs": [
    {
     "name": "stdout",
     "output_type": "stream",
     "text": [
      "[1, 2, 3, 4, 5, 2, 4, 4]\n",
      "{1, 2, 3, 4, 5}\n",
      "[1, 2, 3, 4, 5]\n"
     ]
    }
   ],
   "source": [
    "# Sets are also useful for turning a list with multiple identical entries into a unique list!\n",
    "a = [1, 2, 3, 4, 5, 2, 4, 4]\n",
    "b = set(a)\n",
    "c = list(b)\n",
    "print(a)\n",
    "print(b)\n",
    "print(c)"
   ]
  },
  {
   "cell_type": "code",
   "execution_count": 60,
   "metadata": {},
   "outputs": [
    {
     "name": "stdout",
     "output_type": "stream",
     "text": [
      "1\n",
      "2\n",
      "3\n",
      "4\n",
      "5\n"
     ]
    }
   ],
   "source": [
    "# You can iterate through a set.\n",
    "for i in b:\n",
    "    print(i)"
   ]
  },
  {
   "cell_type": "code",
   "execution_count": 61,
   "metadata": {},
   "outputs": [
    {
     "name": "stdout",
     "output_type": "stream",
     "text": [
      "{6, 8, 10, 12, 14}\n",
      "{1, 2, 3, 4, 5, 6, 7, 8, 9}\n",
      "{2, 3, 4}\n"
     ]
    }
   ],
   "source": [
    "# Let's look at a few sets of numbers\n",
    "a = set(range(6, 15, 2))\n",
    "b = set(range(1, 10))\n",
    "c = set(range(2, 5))\n",
    "print(a)\n",
    "print(b)\n",
    "print(c)"
   ]
  },
  {
   "cell_type": "code",
   "execution_count": 62,
   "metadata": {},
   "outputs": [
    {
     "data": {
      "text/plain": [
       "{6, 8}"
      ]
     },
     "execution_count": 62,
     "metadata": {},
     "output_type": "execute_result"
    }
   ],
   "source": [
    "# Which numbers show up in both sets?\n",
    "a.intersection(b)"
   ]
  },
  {
   "cell_type": "code",
   "execution_count": 63,
   "metadata": {},
   "outputs": [
    {
     "data": {
      "text/plain": [
       "{1, 2, 3, 4, 5, 6, 7, 8, 9, 10, 12, 14}"
      ]
     },
     "execution_count": 63,
     "metadata": {},
     "output_type": "execute_result"
    }
   ],
   "source": [
    "# Which numbers are represented by both the sets together?\n",
    "a.union(b)"
   ]
  },
  {
   "cell_type": "code",
   "execution_count": 64,
   "metadata": {},
   "outputs": [
    {
     "data": {
      "text/plain": [
       "True"
      ]
     },
     "execution_count": 64,
     "metadata": {},
     "output_type": "execute_result"
    }
   ],
   "source": [
    "# Is c a subset of b? Yes\n",
    "c.issubset(b)"
   ]
  },
  {
   "cell_type": "code",
   "execution_count": 65,
   "metadata": {},
   "outputs": [
    {
     "data": {
      "text/plain": [
       "False"
      ]
     },
     "execution_count": 65,
     "metadata": {},
     "output_type": "execute_result"
    }
   ],
   "source": [
    "# Is b a superset of a? No\n",
    "b.issuperset(a)"
   ]
  },
  {
   "cell_type": "markdown",
   "metadata": {},
   "source": [
    "## Dictionaries\n",
    "\n",
    "The last of the collections we'll talk about in the intro! \n",
    "\n",
    "Generic term is \"associative array\". It's essentially a list of key-value pairs. There are a few ways of declaring a dictionary (see examples below), but in general, it will follow the form:\n",
    "\n",
    "```\n",
    "d = {\n",
    "  <key>: <value>,\n",
    "  <key>: <value>,\n",
    "}\n",
    "\n",
    "```\n",
    "\n",
    "Keys can be any [hashable type](https://realpython.com/python-dicts/#restrictions-on-dictionary-keys) -- strings and integers are the most common ones. Keys cannot be repeated.\n",
    "\n",
    "Values can be any object or collection."
   ]
  },
  {
   "cell_type": "code",
   "execution_count": 66,
   "metadata": {},
   "outputs": [],
   "source": [
    "# Declare a dictionary\n",
    "# Keys are metar stations, values are city and state\n",
    "\n",
    "stations = {\n",
    "    'KDEN': 'Denver, CO',\n",
    "    'KMIA': 'Miami, FL',\n",
    "    'KOUN': 'Norman, OK', \n",
    "    'KATL': 'Atlanta, GA',\n",
    "    'KLAX': 'Los Angeles, CA',\n",
    "    'KSEA': 'Seattle, WA',\n",
    "}"
   ]
  },
  {
   "cell_type": "code",
   "execution_count": 67,
   "metadata": {},
   "outputs": [],
   "source": [
    "stations = dict(\n",
    "    KDEN=\"Denver, CO\", \n",
    "    KMIA=\"Miami, FL\",\n",
    "    KOUN=\"Norman, OK\",\n",
    "    KATL=\"Atlanta, GA\",\n",
    "    KLAX=\"Los Angeles, CA\",\n",
    "    KSEA=\"Seattle, WA\",\n",
    ")"
   ]
  },
  {
   "cell_type": "code",
   "execution_count": 68,
   "metadata": {},
   "outputs": [
    {
     "data": {
      "text/plain": [
       "'Denver, CO'"
      ]
     },
     "execution_count": 68,
     "metadata": {},
     "output_type": "execute_result"
    }
   ],
   "source": [
    "# Reference an item in the dictionary (item must exist, else an error is raised)\n",
    "stations[\"KDEN\"]"
   ]
  },
  {
   "cell_type": "code",
   "execution_count": 69,
   "metadata": {},
   "outputs": [
    {
     "name": "stdout",
     "output_type": "stream",
     "text": [
      "Item does not exist\n"
     ]
    }
   ],
   "source": [
    "# Reference an item in the dictionary, return a default if it doesn't exist\n",
    "print(stations.get('KSLC', 'Item does not exist'))"
   ]
  },
  {
   "cell_type": "code",
   "execution_count": 70,
   "metadata": {},
   "outputs": [
    {
     "name": "stdout",
     "output_type": "stream",
     "text": [
      "{'KDEN': 'Denver, CO', 'KMIA': 'Miami, FL', 'KOUN': 'Norman, OK', 'KATL': 'Atlanta, GA', 'KLAX': 'Los Angeles, CA', 'KSEA': 'Seattle, WA', 'KSLC': 'Slat Lake City, UT'}\n",
      "{'KDEN': 'Denver, CO', 'KMIA': 'Miami, FL', 'KOUN': 'Norman, OK', 'KATL': 'Atlanta, GA', 'KLAX': 'Los Angeles, CA', 'KSEA': 'Seattle, WA', 'KSLC': 'Salt Lake City, UT'}\n",
      "Atlanta, GA\n"
     ]
    }
   ],
   "source": [
    "# Add an item to the dictionary\n",
    "stations['KSLC'] = 'Slat Lake City, UT'\n",
    "print(stations)\n",
    "\n",
    "# Modify an item in the dictionary\n",
    "stations['KSLC'] = 'Salt Lake City, UT'\n",
    "print(stations)\n",
    "\n",
    "# Remove an item in the dictionary. Modifies the dict in place, and returns the value of the item removed\n",
    "removed_item = stations.pop('KATL')\n",
    "print(removed_item)"
   ]
  },
  {
   "cell_type": "code",
   "execution_count": 71,
   "metadata": {},
   "outputs": [
    {
     "name": "stdout",
     "output_type": "stream",
     "text": [
      "KDEN\n",
      "KMIA\n",
      "KOUN\n",
      "KLAX\n",
      "KSEA\n",
      "KSLC\n"
     ]
    }
   ],
   "source": [
    "# Iterate through dictionary keys:\n",
    "for key in stations:\n",
    "    print(key)\n",
    "    "
   ]
  },
  {
   "cell_type": "code",
   "execution_count": 72,
   "metadata": {},
   "outputs": [
    {
     "name": "stdout",
     "output_type": "stream",
     "text": [
      "Denver, CO\n",
      "Miami, FL\n",
      "Norman, OK\n",
      "Los Angeles, CA\n",
      "Seattle, WA\n",
      "Salt Lake City, UT\n"
     ]
    }
   ],
   "source": [
    "# Iterate through dictionary values:\n",
    "for value in stations.values():\n",
    "    print(value)"
   ]
  },
  {
   "cell_type": "code",
   "execution_count": 73,
   "metadata": {},
   "outputs": [
    {
     "name": "stdout",
     "output_type": "stream",
     "text": [
      "KDEN: Denver, CO\n",
      "KMIA: Miami, FL\n",
      "KOUN: Norman, OK\n",
      "KLAX: Los Angeles, CA\n",
      "KSEA: Seattle, WA\n",
      "KSLC: Salt Lake City, UT\n",
      "************\n",
      "KDEN: Denver, CO\n",
      "KMIA: Miami, FL\n",
      "KOUN: Norman, OK\n",
      "KLAX: Los Angeles, CA\n",
      "KSEA: Seattle, WA\n",
      "KSLC: Salt Lake City, UT\n"
     ]
    }
   ],
   "source": [
    "# Iterate over the key, value pair\n",
    "for key, value in stations.items():\n",
    "    print(f'{key}: {value}')\n",
    "    \n",
    "print('*'*12)\n",
    "# A more human readable option:\n",
    "for station_id, city in stations.items():\n",
    "    print(f'{station_id}: {city}')"
   ]
  },
  {
   "cell_type": "markdown",
   "metadata": {},
   "source": [
    "## Functions\n",
    "\n",
    "Just like in math, functions represent the relationship between a set of inputs and a set of outputs. For example, a line is defined by the relationship:\n",
    "\n",
    "    y = mx + b\n",
    "\n",
    "We say \"`y` is a function of `x`\" or `y = f(x)`. And `m` and `b` are constants. If you define `m`, `x`, and `b`, you can find the value of `y`.\n",
    "\n",
    "In Python, and many other programming languages, *functions* serve the same purpose. They map some input values to output values dictated by the lines of code in the block. Think of functions as a building block of a larger piece of code.\n",
    "\n",
    "Python function definitions generally take the form:\n",
    "\n",
    "```\n",
    "def <function_name>([<parameters>]):\n",
    "    <statement(s)>\n",
    "```\n",
    "\n",
    "And to call the function:\n",
    "\n",
    "```\n",
    "<function_name>([<parameters>])\n",
    "```\n",
    "\n"
   ]
  },
  {
   "cell_type": "code",
   "execution_count": 74,
   "metadata": {},
   "outputs": [],
   "source": [
    "# A simple function definition\n",
    "def hello():\n",
    "    print('hi there')"
   ]
  },
  {
   "cell_type": "code",
   "execution_count": 75,
   "metadata": {},
   "outputs": [
    {
     "name": "stdout",
     "output_type": "stream",
     "text": [
      "hi there\n"
     ]
    }
   ],
   "source": [
    "# Call the function\n",
    "hello()"
   ]
  },
  {
   "cell_type": "code",
   "execution_count": 76,
   "metadata": {},
   "outputs": [],
   "source": [
    "# An example with parameter(s)\n",
    "def hello_person(first, last):\n",
    "    print(f'hi there {first} {last}')"
   ]
  },
  {
   "cell_type": "code",
   "execution_count": 77,
   "metadata": {},
   "outputs": [
    {
     "name": "stdout",
     "output_type": "stream",
     "text": [
      "hi there Christina Holt\n",
      "hi there Jane Doe\n",
      "hi there Jane Doe\n"
     ]
    }
   ],
   "source": [
    "# Call the function\n",
    "hello_person(\"Christina\", \"Holt\")\n",
    "\n",
    "# Call with key word parameters \n",
    "hello_person(first=\"Jane\", last=\"Doe\")\n",
    "hello_person(last=\"Doe\", first=\"Jane\")"
   ]
  },
  {
   "cell_type": "code",
   "execution_count": 78,
   "metadata": {},
   "outputs": [],
   "source": [
    "# A math-y example. Return a value from a function\n",
    "def line(m, x, b):\n",
    "    return m * x + b"
   ]
  },
  {
   "cell_type": "code",
   "execution_count": 79,
   "metadata": {},
   "outputs": [
    {
     "name": "stdout",
     "output_type": "stream",
     "text": [
      "2.0\n",
      "2.0\n"
     ]
    }
   ],
   "source": [
    "# Call the function and save the output to a variable\n",
    "y = line(0.5, 2, 1)\n",
    "print(y)\n",
    "\n",
    "# Here key word arguments could help with readability\n",
    "y = line(m=0.5, x=2, b=1)\n",
    "print(y)"
   ]
  },
  {
   "cell_type": "code",
   "execution_count": 80,
   "metadata": {},
   "outputs": [],
   "source": [
    "# Default values for parameters\n",
    "def hello_again(first, last, title=None):\n",
    "    if title is None:\n",
    "        print(f'oh hi, {first} {last}.')\n",
    "    else:\n",
    "        print(f'Greetings, {title} {first} {last}!')"
   ]
  },
  {
   "cell_type": "code",
   "execution_count": 81,
   "metadata": {},
   "outputs": [
    {
     "name": "stdout",
     "output_type": "stream",
     "text": [
      "oh hi, Jane Doe.\n",
      "Greetings, Dr. Jane Doe!\n"
     ]
    }
   ],
   "source": [
    "hello_again('Jane', 'Doe')\n",
    "hello_again(title='Dr.', first='Jane', last='Doe')"
   ]
  },
  {
   "cell_type": "code",
   "execution_count": 82,
   "metadata": {},
   "outputs": [
    {
     "name": "stdout",
     "output_type": "stream",
     "text": [
      "At Denver, the temperature is\n",
      "304 K\n",
      "30.85 C\n",
      "87.53 F\n",
      "At Denver, the temperature is\n",
      "280 K\n",
      "6.85 C\n",
      "44.33 F\n",
      "At Fort Collins, the temperature is\n",
      "280 K\n",
      "11.85 C\n",
      "71.33 F\n"
     ]
    }
   ],
   "source": [
    "# Why use functions??? An example without functions. \n",
    "# Consider that the scientific process keeps leading you to ask one more similar question\n",
    "\n",
    "# Compute the temperature and dewpoint in Celsius and Fahrenheit given the values at a station in Kelvin.\n",
    "# At Denver Airport, the temperature is recorded as 394 K. \n",
    "\n",
    "celsius = 304 - 273.15\n",
    "fahrenheit = 304 * 9 / 5 - 459.67\n",
    "\n",
    "\n",
    "print('At Denver, the temperature is')\n",
    "print('304 K')\n",
    "print(f'{celsius:.2f} C')\n",
    "print(f'{fahrenheit:.2f} F')\n",
    "\n",
    "# That was at 3 PM. At 8 PM it was 280 K. What is that in C and F?\n",
    "\n",
    "celsius = 280 - 273.15\n",
    "fahrenheit = 280 * 9 / 5 - 459.67\n",
    "\n",
    "\n",
    "print('At Denver, the temperature is')\n",
    "print('280 K')\n",
    "print(f'{celsius:.2f} C')\n",
    "print(f'{fahrenheit:.2f} F')\n",
    "\n",
    "# What was the temperature in Fort Collins at 8 PM in C and F? It was 285 K.\n",
    "\n",
    "celsius = 285 - 273.15\n",
    "fahrenheit = 295 * 9 / 5 - 459.67\n",
    "\n",
    "\n",
    "print('At Fort Collins, the temperature is')\n",
    "print('280 K')\n",
    "print(f'{celsius:.2f} C')\n",
    "print(f'{fahrenheit:.2f} F')\n"
   ]
  },
  {
   "cell_type": "code",
   "execution_count": 83,
   "metadata": {},
   "outputs": [],
   "source": [
    "# How we can clean up the duplication and the chance for mistakes...\n",
    "\n",
    "def temp_transform(kelvin):\n",
    "    celsius = kelvin - 273.15\n",
    "    fahrenheit = kelvin * 9 / 5 - 459.67\n",
    "    return celsius, fahrenheit\n",
    "\n",
    "\n",
    "def print_result(city, temp_k):\n",
    "    print(f'At {city}, the temperature is')\n",
    "    print(f'{temp_k} K')\n",
    "    celsius, fahrenheit = temp_transform(temp_k)\n",
    "    print(f'{celsius:.2f} C')\n",
    "    print(f'{fahrenheit:.2f} F')"
   ]
  },
  {
   "cell_type": "code",
   "execution_count": 84,
   "metadata": {},
   "outputs": [
    {
     "name": "stdout",
     "output_type": "stream",
     "text": [
      "At Denver, the temperature is\n",
      "304 K\n",
      "30.85 C\n",
      "87.53 F\n",
      "At Denver, the temperature is\n",
      "280 K\n",
      "6.85 C\n",
      "44.33 F\n",
      "At Fort Collins, the temperature is\n",
      "285 K\n",
      "11.85 C\n",
      "53.33 F\n"
     ]
    }
   ],
   "source": [
    "print_result('Denver', 304)\n",
    "print_result('Denver', 280)\n",
    "print_result('Fort Collins', 285)"
   ]
  },
  {
   "cell_type": "code",
   "execution_count": 85,
   "metadata": {},
   "outputs": [],
   "source": [
    "# Try to have a single purpose for each function. Functions that do too many things get harder to re-use\n",
    "# It also saves computation...what if I don't care about temp in Celsius?\n",
    "\n",
    "# Use \"doc blocks\" here to document your functions\n",
    "\n",
    "def k_to_c(kelvin):\n",
    "    '''Convert temperature in Kelvin to degrees Celsius'''\n",
    "    return kelvin - 273.15\n",
    "\n",
    "def k_to_f(kelvin):\n",
    "    '''Convert temperature in Kelvin to degrees Fahrenheit'''\n",
    "    return kelvin * 9 / 5 - 459.67\n",
    "\n",
    "def print_result(city, temp_k):\n",
    "    print(f'At {city}, the temperature is')\n",
    "    print(f'{temp_k} K')\n",
    "    print(f'{k_to_c(temp_k):.2f} C')\n",
    "    print(f'{k_to_f(temp_k):.2f} F')"
   ]
  },
  {
   "cell_type": "code",
   "execution_count": 86,
   "metadata": {},
   "outputs": [
    {
     "name": "stdout",
     "output_type": "stream",
     "text": [
      "At Denver, the temperature is\n",
      "304 K\n",
      "30.85 C\n",
      "87.53 F\n",
      "At Denver, the temperature is\n",
      "280 K\n",
      "6.85 C\n",
      "44.33 F\n",
      "At Fort Collins, the temperature is\n",
      "285 K\n",
      "11.85 C\n",
      "53.33 F\n"
     ]
    }
   ],
   "source": [
    "print_result('Denver', 304)\n",
    "print_result('Denver', 280)\n",
    "print_result('Fort Collins', 285)"
   ]
  },
  {
   "cell_type": "code",
   "execution_count": 87,
   "metadata": {},
   "outputs": [
    {
     "name": "stdout",
     "output_type": "stream",
     "text": [
      "Denver          304 K = 87.53 F\n",
      "Fort Collins    312 K = 101.93 F\n",
      "Silverthorne    300 K = 80.33 F\n",
      "Golden          307 K = 92.93 F\n",
      "Boulder         305 K = 89.33 F\n"
     ]
    }
   ],
   "source": [
    "# Consider a data set that had a bunch of Kelvin temperature obs, and you want to transform them all to F\n",
    "\n",
    "temperatures = {\n",
    "    'Denver': 304,\n",
    "    'Fort Collins': 312,\n",
    "    'Silverthorne': 300,\n",
    "    'Golden': 307,\n",
    "    'Boulder': 305,\n",
    "}\n",
    "\n",
    "for place, temp in temperatures.items():\n",
    "    print(f'{place:15s} {temp} K = {k_to_f(temp):.2f} F')\n"
   ]
  },
  {
   "cell_type": "code",
   "execution_count": null,
   "metadata": {},
   "outputs": [],
   "source": []
  },
  {
   "cell_type": "code",
   "execution_count": null,
   "metadata": {},
   "outputs": [],
   "source": []
  }
 ],
 "metadata": {
  "kernelspec": {
   "display_name": "Python 3",
   "language": "python",
   "name": "python3"
  },
  "language_info": {
   "codemirror_mode": {
    "name": "ipython",
    "version": 3
   },
   "file_extension": ".py",
   "mimetype": "text/x-python",
   "name": "python",
   "nbconvert_exporter": "python",
   "pygments_lexer": "ipython3",
   "version": "3.8.3"
  }
 },
 "nbformat": 4,
 "nbformat_minor": 4
}
